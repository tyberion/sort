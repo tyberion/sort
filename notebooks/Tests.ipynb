{
 "cells": [
  {
   "cell_type": "code",
   "execution_count": 1,
   "metadata": {},
   "outputs": [],
   "source": [
    "import os\n",
    "import time\n",
    "import numpy as np\n",
    "import matplotlib.pyplot as plt\n",
    "from skimage import io\n",
    "from sort import Sort\n",
    "import matplotlib.pyplot as plt\n",
    "import matplotlib.patches as patches\n",
    "\n",
    "%matplotlib inline\n",
    "# %load_ext line_profiler\n",
    "# %load_ext cython"
   ]
  },
  {
   "cell_type": "code",
   "execution_count": 2,
   "metadata": {},
   "outputs": [],
   "source": [
    "# all train\n",
    "if not os.path.exists('output'):\n",
    "    os.makedirs('output')\n",
    "colours = np.random.rand(32, 3) #used only for display"
   ]
  },
  {
   "cell_type": "code",
   "execution_count": 3,
   "metadata": {},
   "outputs": [],
   "source": [
    "def run(colours, display=False, total_time=0.0, total_frames=0):\n",
    "    # all train\n",
    "    sequences = ['PETS09-S2L1', 'TUD-Campus', 'TUD-Stadtmitte', 'ETH-Bahnhof', 'ETH-Sunnyday', 'ETH-Pedcross2', 'KITTI-13', 'KITTI-17', 'ADL-Rundle-6', 'ADL-Rundle-8', 'Venice-2']\n",
    "    phase = 'train'\n",
    "    if(display):\n",
    "        if not os.path.exists('../mot_benchmark'):\n",
    "            print('\\n\\tERROR: mot_benchmark link not found!\\n\\n        Create a symbolic link to the MOT benchmark\\n        (https://motchallenge.net/data/2D_MOT_2015/#download). E.g.:\\n\\n        $ ln -s /path/to/MOT2015_challenge/2DMOT2015 mot_benchmark\\n\\n')\n",
    "            exit()\n",
    "        fig, ax = plt.subplots()\n",
    "    \n",
    "    if not os.path.exists('output'):\n",
    "        os.makedirs('output')\n",
    "    \n",
    "    for seq in sequences:\n",
    "        mot_tracker = Sort() #create instance of the SORT tracker\n",
    "        seq_dets = np.loadtxt('../data/%s/det.txt'%(seq), delimiter=',').astype('float32') #load detections\n",
    "        with open('output/%s.txt'%(seq), 'w') as out_file:\n",
    "            print(\"Processing %s.\"%(seq))\n",
    "            for frame in range(int(seq_dets[:, 0].max())):\n",
    "                frame += 1 #detection and frame numbers begin at 1\n",
    "                dets = seq_dets[seq_dets[:, 0]==frame, 2:7]\n",
    "                dets[:, 2:4] += dets[:, 0:2] #convert to [x1, y1, w, h] to [x1, y1, x2, y2]\n",
    "                total_frames += 1\n",
    "\n",
    "                if display:\n",
    "                    fn = '../mot_benchmark/%s/%s/img1/%06d.jpg'%(phase, seq, frame)\n",
    "                    im =io.imread(fn)\n",
    "                    ax.imshow(im)\n",
    "                    plt.title(seq + ' Tracked Targets')\n",
    "\n",
    "                start_time = time.time()\n",
    "                trackers = mot_tracker.update(dets)\n",
    "                cycle_time = time.time() - start_time\n",
    "                total_time += cycle_time\n",
    "\n",
    "                for d in trackers:\n",
    "                    print('%d, %d, %.2f, %.2f, %.2f, %.2f, 1, -1, -1, -1'%(frame, d[4], d[0], d[1], d[2]-d[0], d[3]-d[1]), file=out_file)\n",
    "                    if(display):\n",
    "                        d = d.astype(np.int32)\n",
    "                        ax.add_patch(patches.Rectangle((d[0], d[1]), d[2]-d[0], d[3]-d[1], fill=False, lw=3, ec=colours[d[4]%32, :]))\n",
    "                        ax.set_adjustable('box-forced')\n",
    "                if(display):\n",
    "                    plt.axis('off')\n",
    "                    fig.savefig(f'output/{seq}_{frame:05d}.jpg')\n",
    "                    ax.cla()\n",
    "        \n",
    "    print(\"Total Tracking took: %.3f for %d frames or %.1f FPS\"%(total_time, total_frames, total_frames/total_time))"
   ]
  },
  {
   "cell_type": "code",
   "execution_count": null,
   "metadata": {},
   "outputs": [
    {
     "name": "stdout",
     "output_type": "stream",
     "text": [
      "\n",
      "\tERROR: mot_benchmark link not found!\n",
      "\n",
      "        Create a symbolic link to the MOT benchmark\n",
      "        (https://motchallenge.net/data/2D_MOT_2015/#download). E.g.:\n",
      "\n",
      "        $ ln -s /path/to/MOT2015_challenge/2DMOT2015 mot_benchmark\n",
      "\n",
      "\n",
      "Processing PETS09-S2L1.\n"
     ]
    },
    {
     "name": "stderr",
     "output_type": "stream",
     "text": [
      "C:\\Users\\kruithofmc\\AppData\\Local\\Continuum\\anaconda3\\lib\\site-packages\\matplotlib\\axes\\_base.py:1400: MatplotlibDeprecationWarning: The 'box-forced' keyword argument is deprecated since 2.2.\n",
      "  \" since 2.2.\", cbook.mplDeprecation)\n"
     ]
    }
   ],
   "source": [
    "# lprun -f KalmanBoxTracker.predict -f KalmanBoxTracker.__init__ -f Sort.update -f associate_detections_to_trackers -f run run(total_time, total_frames)\n",
    "run(colours, display=True)"
   ]
  },
  {
   "cell_type": "code",
   "execution_count": null,
   "metadata": {},
   "outputs": [],
   "source": []
  }
 ],
 "metadata": {
  "kernelspec": {
   "display_name": "Python 3",
   "language": "python",
   "name": "python3"
  },
  "language_info": {
   "codemirror_mode": {
    "name": "ipython",
    "version": 3
   },
   "file_extension": ".py",
   "mimetype": "text/x-python",
   "name": "python",
   "nbconvert_exporter": "python",
   "pygments_lexer": "ipython3",
   "version": "3.6.5"
  }
 },
 "nbformat": 4,
 "nbformat_minor": 2
}
