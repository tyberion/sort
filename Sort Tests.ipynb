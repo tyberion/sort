{
 "cells": [
  {
   "cell_type": "code",
   "execution_count": 2,
   "metadata": {},
   "outputs": [],
   "source": [
    "import os\n",
    "import time\n",
    "import numpy as np\n",
    "import sort\n",
    "from sort import *\n",
    "\n",
    "%load_ext line_profiler\n",
    "%load_ext cython"
   ]
  },
  {
   "cell_type": "code",
   "execution_count": 7,
   "metadata": {},
   "outputs": [],
   "source": [
    "# all train\n",
    "sequences = ['PETS09-S2L1','TUD-Campus','TUD-Stadtmitte','ETH-Bahnhof','ETH-Sunnyday','ETH-Pedcross2','KITTI-13','KITTI-17','ADL-Rundle-6','ADL-Rundle-8','Venice-2']\n",
    "\n",
    "if not os.path.exists('output'):\n",
    "    os.makedirs('output')"
   ]
  },
  {
   "cell_type": "code",
   "execution_count": 8,
   "metadata": {},
   "outputs": [],
   "source": [
    "def run(total_time=0.0, total_frames=0):\n",
    "    for seq in sequences:\n",
    "        mot_tracker = Sort() #create instance of the SORT tracker\n",
    "        seq_dets = np.loadtxt('data/%s/det.txt'%(seq),delimiter=',').astype('float32') #load detections\n",
    "        with open('output/%s.txt'%(seq),'w') as out_file:\n",
    "            print(\"Processing %s.\"%(seq))\n",
    "            for frame in range(int(seq_dets[:,0].max())):\n",
    "                frame += 1 #detection and frame numbers begin at 1\n",
    "                dets = seq_dets[seq_dets[:, 0] == frame, 2:7]\n",
    "                dets[:,2:4] += dets[:, 0:2] #convert to [x1,y1,w,h] to [x1,y1,x2,y2]\n",
    "                total_frames += 1\n",
    "\n",
    "                start_time = time.time()\n",
    "                trackers = mot_tracker.update(dets)\n",
    "                cycle_time = time.time() - start_time\n",
    "                total_time += cycle_time\n",
    "\n",
    "                for d in trackers:\n",
    "                    print('%d,%d,%.2f,%.2f,%.2f,%.2f,1,-1,-1,-1'%(frame,d[4],d[0],d[1],d[2]-d[0],d[3]-d[1]),file=out_file)\n",
    "\n",
    "    print(\"Total Tracking took: %.3f for %d frames or %.1f FPS\"%(total_time,total_frames,total_frames/total_time))"
   ]
  },
  {
   "cell_type": "code",
   "execution_count": 9,
   "metadata": {},
   "outputs": [
    {
     "name": "stdout",
     "output_type": "stream",
     "text": [
      "Processing PETS09-S2L1.\n",
      "Processing TUD-Campus.\n",
      "Processing TUD-Stadtmitte.\n",
      "Processing ETH-Bahnhof.\n",
      "Processing ETH-Sunnyday.\n",
      "Processing ETH-Pedcross2.\n",
      "Processing KITTI-13.\n",
      "Processing KITTI-17.\n",
      "Processing ADL-Rundle-6.\n",
      "Processing ADL-Rundle-8.\n",
      "Processing Venice-2.\n",
      "Total Tracking took: 18.740 for 5500 frames or 293.5 FPS\n"
     ]
    }
   ],
   "source": [
    "# lprun -f KalmanBoxTracker.predict -f KalmanBoxTracker.__init__ -f Sort.update -f associate_detections_to_trackers -f run run(total_time, total_frames)\n",
    "run()"
   ]
  },
  {
   "cell_type": "code",
   "execution_count": null,
   "metadata": {},
   "outputs": [],
   "source": []
  }
 ],
 "metadata": {
  "kernelspec": {
   "display_name": "Python 3",
   "language": "python",
   "name": "python3"
  },
  "language_info": {
   "codemirror_mode": {
    "name": "ipython",
    "version": 3
   },
   "file_extension": ".py",
   "mimetype": "text/x-python",
   "name": "python",
   "nbconvert_exporter": "python",
   "pygments_lexer": "ipython3",
   "version": "3.6.5"
  }
 },
 "nbformat": 4,
 "nbformat_minor": 2
}
